{
 "cells": [
  {
   "cell_type": "code",
   "execution_count": 4,
   "id": "65db79cc-11f7-48bd-a638-6f6e7a792d15",
   "metadata": {},
   "outputs": [],
   "source": [
    "import pandas as pd\n",
    "import numpy as np\n",
    "import os\n",
    "import glob"
   ]
  },
  {
   "cell_type": "code",
   "execution_count": 3,
   "id": "b068c145-1df2-4643-9dbc-a123b1134fc4",
   "metadata": {},
   "outputs": [
    {
     "data": {
      "text/plain": [
       "['DEMO23Q1_TRANSFORMED.csv',\n",
       " 'DEMO23Q2_TRANSFORMED.csv',\n",
       " 'DEMO23Q3_TRANSFORMED.csv',\n",
       " 'DEMO23Q4_TRANSFORMED.csv',\n",
       " 'DEMO24Q1_TRANSFORMED.csv',\n",
       " 'DEMO24Q2_TRANSFORMED.csv',\n",
       " 'DEMO24Q3_TRANSFORMED.csv']"
      ]
     },
     "execution_count": 3,
     "metadata": {},
     "output_type": "execute_result"
    }
   ],
   "source": [
    "demo_transformed_files = os.listdir('Data/Transformed')\n",
    "demo_transformed_files"
   ]
  },
  {
   "cell_type": "code",
   "execution_count": null,
   "id": "4ba6ae54-b250-42cc-ab4f-707292cbdb18",
   "metadata": {},
   "outputs": [],
   "source": [
    "#Define the file path\n",
    "file_path = 'Data/Transformed'\n"
   ]
  }
 ],
 "metadata": {
  "kernelspec": {
   "display_name": "Python 3 (ipykernel)",
   "language": "python",
   "name": "python3"
  },
  "language_info": {
   "codemirror_mode": {
    "name": "ipython",
    "version": 3
   },
   "file_extension": ".py",
   "mimetype": "text/x-python",
   "name": "python",
   "nbconvert_exporter": "python",
   "pygments_lexer": "ipython3",
   "version": "3.12.4"
  }
 },
 "nbformat": 4,
 "nbformat_minor": 5
}
